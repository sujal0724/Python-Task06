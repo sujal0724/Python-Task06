{
 "cells": [
  {
   "cell_type": "code",
   "execution_count": 7,
   "id": "fa8d3d02",
   "metadata": {},
   "outputs": [
    {
     "name": "stdout",
     "output_type": "stream",
     "text": [
      "{}\n"
     ]
    }
   ],
   "source": [
    "class College:\n",
    "    C_name=\"PCE\"\n",
    "    def __init__(self,c_name):\n",
    "        C_name=c_name\n",
    "    def Details_of_C (self,No_branches,No_of_Faculty,No_Student_Capacity):\n",
    "        Number_Branch=No_branches\n",
    "        Number_Faculty=No_of_Faculty\n",
    "        Number_Student_Capacity=No_Student_Capacity\n",
    "class Student:\n",
    "    S_name=''\n",
    "    S_Age=0\n",
    "    S_mob=0\n",
    "    def __init__ (self,Student_name,Student_Age,Student_mob):\n",
    "        Student_name=Student_name\n",
    "        Student_Age=Student_Age\n",
    "        Student_mob=Student_mob\n",
    "\n",
    "c1=College('pce')\n",
    "College_Details=c1.Details_of_C(15,21,1500)\n",
    "print(vars(c1))"
   ]
  }
 ],
 "metadata": {
  "kernelspec": {
   "display_name": "Python 3",
   "language": "python",
   "name": "python3"
  },
  "language_info": {
   "codemirror_mode": {
    "name": "ipython",
    "version": 3
   },
   "file_extension": ".py",
   "mimetype": "text/x-python",
   "name": "python",
   "nbconvert_exporter": "python",
   "pygments_lexer": "ipython3",
   "version": "3.9.12"
  }
 },
 "nbformat": 4,
 "nbformat_minor": 5
}
